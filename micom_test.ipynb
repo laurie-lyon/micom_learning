{
 "cells": [
  {
   "cell_type": "code",
   "execution_count": 4,
   "metadata": {},
   "outputs": [
    {
     "name": "stderr",
     "output_type": "stream",
     "text": [
      "OSQP and HIGHS are available but could not load the hybrid interface.\n",
      "Traceback (most recent call last):\n",
      "  File \"/Users/laurielyon/micromamba/envs/micom/lib/python3.12/site-packages/optlang/__init__.py\", line 61, in <module>\n",
      "    from optlang import hybrid_interface\n",
      "  File \"/Users/laurielyon/micromamba/envs/micom/lib/python3.12/site-packages/optlang/hybrid_interface.py\", line 26, in <module>\n",
      "    import optlang.matrix_interface as mi\n",
      "  File \"/Users/laurielyon/micromamba/envs/micom/lib/python3.12/site-packages/optlang/matrix_interface.py\", line 40, in <module>\n",
      "    from numpy import Infinity, array, concatenate, zeros\n",
      "ImportError: cannot import name 'Infinity' from 'numpy' (/Users/laurielyon/micromamba/envs/micom/lib/python3.12/site-packages/numpy/__init__.py). Did you mean: 'isfinite'?\n"
     ]
    }
   ],
   "source": [
    "from micom.data import test_results\n",
    "from micom import Community, data\n"
   ]
  },
  {
   "cell_type": "code",
   "execution_count": 2,
   "metadata": {},
   "outputs": [],
   "source": [
    "mydf = pd.DataFrame({\n",
    "    \"animals\":[\"dog\", \"spider\", \"cat\"],\n",
    "    \"legs\":[4, 8, 4]\n",
    "})"
   ]
  },
  {
   "cell_type": "code",
   "execution_count": 3,
   "metadata": {},
   "outputs": [
    {
     "data": {
      "text/html": [
       "<div>\n",
       "<style scoped>\n",
       "    .dataframe tbody tr th:only-of-type {\n",
       "        vertical-align: middle;\n",
       "    }\n",
       "\n",
       "    .dataframe tbody tr th {\n",
       "        vertical-align: top;\n",
       "    }\n",
       "\n",
       "    .dataframe thead th {\n",
       "        text-align: right;\n",
       "    }\n",
       "</style>\n",
       "<table border=\"1\" class=\"dataframe\">\n",
       "  <thead>\n",
       "    <tr style=\"text-align: right;\">\n",
       "      <th></th>\n",
       "      <th>animals</th>\n",
       "      <th>legs</th>\n",
       "    </tr>\n",
       "  </thead>\n",
       "  <tbody>\n",
       "    <tr>\n",
       "      <th>0</th>\n",
       "      <td>dog</td>\n",
       "      <td>4</td>\n",
       "    </tr>\n",
       "    <tr>\n",
       "      <th>1</th>\n",
       "      <td>spider</td>\n",
       "      <td>8</td>\n",
       "    </tr>\n",
       "    <tr>\n",
       "      <th>2</th>\n",
       "      <td>cat</td>\n",
       "      <td>4</td>\n",
       "    </tr>\n",
       "  </tbody>\n",
       "</table>\n",
       "</div>"
      ],
      "text/plain": [
       "  animals  legs\n",
       "0     dog     4\n",
       "1  spider     8\n",
       "2     cat     4"
      ]
     },
     "execution_count": 3,
     "metadata": {},
     "output_type": "execute_result"
    }
   ],
   "source": [
    "mydf"
   ]
  },
  {
   "cell_type": "code",
   "execution_count": null,
   "metadata": {},
   "outputs": [],
   "source": []
  }
 ],
 "metadata": {
  "kernelspec": {
   "display_name": "Python 3",
   "language": "python",
   "name": "python3"
  },
  "language_info": {
   "codemirror_mode": {
    "name": "ipython",
    "version": 3
   },
   "file_extension": ".py",
   "mimetype": "text/x-python",
   "name": "python",
   "nbconvert_exporter": "python",
   "pygments_lexer": "ipython3",
   "version": "3.12.4"
  }
 },
 "nbformat": 4,
 "nbformat_minor": 2
}
